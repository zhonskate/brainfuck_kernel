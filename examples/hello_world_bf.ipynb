{
 "cells": [
  {
   "cell_type": "markdown",
   "metadata": {},
   "source": [
    "## Hello, World!\n",
    "\n",
    "This program prints hello world"
   ]
  },
  {
   "cell_type": "code",
   "execution_count": 1,
   "metadata": {},
   "outputs": [
    {
     "name": "stdout",
     "output_type": "stream",
     "text": [
      "Stack:\t\t[0, 0, 72, 104, 88, 32, 8]\n",
      "Pointer:\t0\n",
      "Output:\t\t"
     ]
    }
   ],
   "source": [
    "+++++ +++ \n",
    "[\n",
    "    >++++\n",
    "    [\n",
    "        >++\n",
    "        >+++\n",
    "        >+++\n",
    "        >+\n",
    "        <<<<-\n",
    "    ]\n",
    "    >+\n",
    "    >+\n",
    "    >-\n",
    "    >>+\n",
    "    [<]\n",
    "    <-\n",
    "]"
   ]
  },
  {
   "cell_type": "code",
   "execution_count": 2,
   "metadata": {},
   "outputs": [
    {
     "name": "stdout",
     "output_type": "stream",
     "text": [
      "Stack:\t\t[0, 0, 72, 100, 87, 33, 10]\n",
      "Pointer:\t6\n",
      "Output:\t\tHello World!\n"
     ]
    }
   ],
   "source": [
    ">>.\n",
    ">---.\n",
    "+++++ ++..+++.\n",
    ">>.\n",
    "<-.\n",
    "<.\n",
    "+++.----- -.----- ---.\n",
    ">>+.\n",
    ">++."
   ]
  },
  {
   "cell_type": "markdown",
   "metadata": {},
   "source": [
    "To clear the output, we can use the *flush* command"
   ]
  },
  {
   "cell_type": "code",
   "execution_count": 3,
   "metadata": {},
   "outputs": [
    {
     "name": "stdout",
     "output_type": "stream",
     "text": [
      "Stack:\t\t[0]\n",
      "Pointer:\t0\n",
      "Output:\t\t"
     ]
    }
   ],
   "source": [
    "flush"
   ]
  },
  {
   "cell_type": "markdown",
   "metadata": {},
   "source": [
    "Now, we can run the **compressed** form of the program, only in one line."
   ]
  },
  {
   "cell_type": "code",
   "execution_count": 4,
   "metadata": {},
   "outputs": [
    {
     "name": "stdout",
     "output_type": "stream",
     "text": [
      "Stack:\t\t[0, 0, 72, 100, 87, 33, 10]\n",
      "Pointer:\t6\n",
      "Output:\t\tHello World!\n"
     ]
    }
   ],
   "source": [
    "++++++++[>++++[>++>+++>+++>+<<<<-]>+>+>->>+[<]<-]>>.>---.+++++++..+++.>>.<-.<.+++.------.--------.>>+.>++."
   ]
  }
 ],
 "metadata": {
  "kernelspec": {
   "display_name": "Brainfuck",
   "language": "",
   "name": "brainfuck_kernel"
  },
  "language_info": {
   "file_extension": ".br",
   "mimetype": "text/plain",
   "name": "brainfuck"
  }
 },
 "nbformat": 4,
 "nbformat_minor": 2
}
